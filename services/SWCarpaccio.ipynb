{
 "cells": [
  {
   "cell_type": "markdown",
   "metadata": {},
   "source": [
    "software carapacio  (Alistar Cockburn)\n",
    "\n",
    "Learning outcomes \n",
    "•\tHow to slice large applications into 1-day to 1-week requests, business perspective. \n",
    "•\tHow to slice application requests into 15–30-minute work slices, programming perspective\n",
    "\n",
    "Instructions \n",
    "1. Break into teams of 3-4 people, one workstation per team. \n",
    "2. 10 minutes: Preparation - Each team writes down on paper the 10-20 demo-able user stories / tasks (\"slices\") they will develop and possibly demo. Each should be doable in 3-8 minutes. No slice is just mockup of a UI, creation of a data table or data structure. All demos show real input & output (no test harness). \n",
    "3. 15 minutes: Discussion - Instructor/facilitator leads discussion of the slices, what is and isn't acceptable, solicits ways to slice finer. \n",
    "4. 2x40 minutes: Development - A fixed time-box of 40 minutes, four 10-minute development sprints, clock does not stop. At the end of each sprint, each team shows its product to another team. \n",
    "5. Debrief\n",
    "\n",
    "Assignment \n",
    "Accept 4 inputs from the user: \n",
    "•\tnumber of items,\n",
    "•\ta price, \n",
    "•\ta 2-letter country code \n",
    "•\ta date (only for spreadsheet)\n",
    "\n",
    "Stage 1: Create a 1-line calculator that computes the price of the order, giving a discount based on the order value (not number of items), adding country tax/moms based on the country and the discounted order value\n",
    "\n",
    "Order Value \tDiscount Rate\n",
    "$1000\t        3%\n",
    "$5000\t        5%\n",
    "$7000\t        7%\n",
    "$10000\t        10%\n",
    "$50000\t        15%\n",
    "\t\n",
    "State\tMoms/VAT Rate\n",
    "DK\t    25%\n",
    "BE\t    21%\n",
    "DE\t    19%\n",
    "NL\t    21%\n",
    "FR\t    20%\n",
    "\n",
    "\n",
    "Stage 2 (Extra assignment) for spreadsheets(DB) only: \n",
    "Create a set of orders from different months and different states. \n",
    "Produce a report as histogram of sales results by state, then a second sales report histogram of sales results by month. \n",
    "Create a Power point presentation (web page) that shows your sponsors what you have created, with the formula you used, sample inputs and outputs. the sales history and the graphs.\n",
    "\n"
   ]
  },
  {
   "cell_type": "markdown",
   "metadata": {},
   "source": [
    "US1: Make a welcome code: "
   ]
  },
  {
   "cell_type": "code",
   "execution_count": 6,
   "metadata": {},
   "outputs": [
    {
     "name": "stdout",
     "output_type": "stream",
     "text": [
      "welcome to 3. semester python - exercise 1\n"
     ]
    }
   ],
   "source": [
    "msg = \"welcome to 3. semester python - exercise 1\"\n",
    "print(msg)"
   ]
  },
  {
   "cell_type": "markdown",
   "metadata": {},
   "source": [
    "US2: input : number of items and price\n",
    "acceptance creteria: number and items > 0 and less than 1000, print inputtet values"
   ]
  },
  {
   "cell_type": "code",
   "execution_count": 9,
   "metadata": {},
   "outputs": [
    {
     "name": "stdout",
     "output_type": "stream",
     "text": [
      "10\n"
     ]
    }
   ],
   "source": [
    "def get_user_input():\n",
    "    user_input = input(\"Please enter a number: \")\n",
    "    return user_input\n",
    "\n",
    "print(get_user_input())"
   ]
  },
  {
   "cell_type": "markdown",
   "metadata": {},
   "source": [
    "US3: Find country tax. input country code return and print europian country VAT\n",
    "acceptance creteria: return and print contry code and tax value. "
   ]
  },
  {
   "cell_type": "code",
   "execution_count": 8,
   "metadata": {},
   "outputs": [
    {
     "name": "stdout",
     "output_type": "stream",
     "text": [
      "The VAT rate for DK in Europe is 25%.\n"
     ]
    }
   ],
   "source": [
    "def get_vat_in_europe(country_code):\n",
    "    \"\"\"\n",
    "    Get the Value-Added Tax (VAT) rate for European countries.\n",
    "\n",
    "    Parameters:\n",
    "    - country_code: The country code.\n",
    "\n",
    "    Returns:\n",
    "    - vat_rate: The VAT rate for the specified country in Europe.\n",
    "    \"\"\"\n",
    "    european_vat_rates = {\n",
    "        \"AT\": 20,  # Austria\n",
    "        \"BE\": 21,  # Belgium\n",
    "        \"BG\": 20,  # Bulgaria\n",
    "        \"HR\": 25,  # Croatia\n",
    "        \"CY\": 19,  # Cyprus\n",
    "        \"CZ\": 21,  # Czech Republic\n",
    "        \"DK\": 25,  # Denmark\n",
    "        \"EE\": 20,  # Estonia\n",
    "        \"FI\": 24,  # Finland\n",
    "        \"FR\": 20,  # France\n",
    "        \"DE\": 19,  # Germany\n",
    "        \"GR\": 24,  # Greece\n",
    "        \"HU\": 27,  # Hungary\n",
    "        \"IE\": 23,  # Ireland\n",
    "        \"IT\": 22,  # Italy\n",
    "        \"LV\": 21,  # Latvia\n",
    "        \"LT\": 21,  # Lithuania\n",
    "        \"LU\": 17,  # Luxembourg\n",
    "        \"MT\": 18,  # Malta\n",
    "        \"NL\": 21,  # Netherlands\n",
    "        \"PL\": 23,  # Poland\n",
    "        \"PT\": 23,  # Portugal\n",
    "        \"RO\": 19,  # Romania\n",
    "        \"SK\": 20,  # Slovakia\n",
    "        \"SI\": 22,  # Slovenia\n",
    "        \"ES\": 21,  # Spain\n",
    "        \"SE\": 25,  # Sweden\n",
    "    }\n",
    "\n",
    "    country_code = country_code.upper()  # Convert to uppercase for case-insensitivity\n",
    "\n",
    "    if country_code in european_vat_rates:\n",
    "        return european_vat_rates[country_code]\n",
    "    else:\n",
    "        return None  # Return None for non-European countries or invalid codes\n",
    "\n",
    "\n",
    "# Example usage:\n",
    "country_code_input = input(\"Enter the country code: \")\n",
    "vat_rate = get_vat_in_europe(country_code_input)\n",
    "\n",
    "if vat_rate is not None:\n",
    "    print(f\"The VAT rate for {country_code_input} in Europe is {vat_rate}%.\")\n",
    "else:\n",
    "    print(\"Invalid country code or not a European country.\")\n"
   ]
  }
 ],
 "metadata": {
  "kernelspec": {
   "display_name": "Python 3",
   "language": "python",
   "name": "python3"
  },
  "language_info": {
   "codemirror_mode": {
    "name": "ipython",
    "version": 3
   },
   "file_extension": ".py",
   "mimetype": "text/x-python",
   "name": "python",
   "nbconvert_exporter": "python",
   "pygments_lexer": "ipython3",
   "version": "3.11.2"
  }
 },
 "nbformat": 4,
 "nbformat_minor": 2
}
